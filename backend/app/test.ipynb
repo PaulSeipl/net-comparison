{
 "cells": [
  {
   "cell_type": "code",
   "execution_count": null,
   "id": "aaff8996",
   "metadata": {},
   "outputs": [],
   "source": [
    "import requests\n",
    "import csv\n",
    "from config import get_settings\n",
    "from schemas import (\n",
    "    ProviderEnum,\n",
    "    WebWunderRequestData,\n",
    "    ByteMeQueryParams,\n",
    "    ApiRequestHeaders,\n",
    ")"
   ]
  },
  {
   "cell_type": "code",
   "execution_count": null,
   "id": "aa9f73de",
   "metadata": {},
   "outputs": [],
   "source": [
    "settings = get_settings()\n",
    "query_params = {\n",
    "    \"street\": \"Musterstraße\",\n",
    "    \"houseNumber\": \"5\",\n",
    "    \"city\": \"München\",\n",
    "    \"plz\": \"80634\",\n",
    "}\n",
    "\n",
    "query_params = ByteMeQueryParams(**query_params).model_dump(by_alias=True)\n",
    "headers = ApiRequestHeaders(\n",
    "    content_type=\"text/xml; charset=utf-8\", x_api_key=settings.BYTEME_API_KEY\n",
    ").model_dump(by_alias=True)\n",
    "response = requests.get(\n",
    "    settings.BYTEME_BASE_URL,\n",
    "    headers=headers,\n",
    "    params=query_params,  # Add query parameters here\n",
    ")"
   ]
  },
  {
   "cell_type": "code",
   "execution_count": null,
   "id": "07f89734",
   "metadata": {},
   "outputs": [],
   "source": [
    "response.text"
   ]
  },
  {
   "cell_type": "code",
   "execution_count": null,
   "id": "c095ce81",
   "metadata": {},
   "outputs": [],
   "source": [
    "reader = csv.DictReader(response.text.splitlines())"
   ]
  },
  {
   "cell_type": "code",
   "execution_count": null,
   "id": "8f37c401",
   "metadata": {},
   "outputs": [],
   "source": [
    "raw_products = [row for row in csv.DictReader(response.text.splitlines())]"
   ]
  },
  {
   "cell_type": "code",
   "execution_count": null,
   "id": "df24ca51",
   "metadata": {},
   "outputs": [],
   "source": [
    "raw_products"
   ]
  },
  {
   "cell_type": "code",
   "execution_count": null,
   "id": "8ed9c982",
   "metadata": {},
   "outputs": [],
   "source": [
    "len(raw_products)"
   ]
  },
  {
   "cell_type": "code",
   "execution_count": null,
   "id": "47919a68",
   "metadata": {},
   "outputs": [],
   "source": [
    "# remove duplicates from list with dicts\n",
    "unique_products = {frozenset(item.items()): item for item in raw_products}.values()"
   ]
  },
  {
   "cell_type": "code",
   "execution_count": null,
   "id": "f212d87b",
   "metadata": {},
   "outputs": [],
   "source": [
    "len([dict(t) for t in {tuple(d.items()) for d in raw_products}])"
   ]
  }
 ],
 "metadata": {
  "kernelspec": {
   "display_name": "venv",
   "language": "python",
   "name": "python3"
  },
  "language_info": {
   "codemirror_mode": {
    "name": "ipython",
    "version": 3
   },
   "file_extension": ".py",
   "mimetype": "text/x-python",
   "name": "python",
   "nbconvert_exporter": "python",
   "pygments_lexer": "ipython3",
   "version": "3.12.4"
  }
 },
 "nbformat": 4,
 "nbformat_minor": 5
}
