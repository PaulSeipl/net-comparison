{
 "cells": [
  {
   "cell_type": "code",
   "execution_count": 4,
   "id": "aaff8996",
   "metadata": {},
   "outputs": [],
   "source": [
    "import sys\n",
    "import os\n",
    "import requests\n",
    "import csv\n",
    "from config import get_settings\n",
    "from schemas import (\n",
    "    ProviderEnum,\n",
    "    ByteMeQueryParams,\n",
    "    ApiRequestHeaders,\n",
    ")\n",
    "import requests\n",
    "import logging\n",
    "import time\n",
    "import json\n",
    "import hmac\n",
    "import hashlib"
   ]
  },
  {
   "cell_type": "code",
   "execution_count": 5,
   "id": "ade0e658",
   "metadata": {},
   "outputs": [],
   "source": [
    "settings = get_settings()\n",
    "payload = {\n",
    "  \"city\": \"München\",\n",
    "  \"houseNumber\": \"5\",\n",
    "  \"plz\": \"80666\",\n",
    "  \"street\": \"Musterstraße\",\n",
    "  \"wantsFiber\": False\n",
    "}\n",
    "payload_as_json = json.dumps(\n",
    "    payload, ensure_ascii=False, separators=(\",\", \":\")\n",
    ")\n",
    "current_timestamp = int(time.time())\n",
    "json_and_timestamp = f\"{current_timestamp}:{payload_as_json}\"\n",
    "\n",
    "hashed_payload = hmac.new(\n",
    "    key=settings.PINGPERFECT_SIGNATURE_SECRET.encode(),\n",
    "    msg=json_and_timestamp.encode(),\n",
    "    digestmod=hashlib.sha256,\n",
    ").hexdigest()\n",
    "\n",
    "headers = {\n",
    "    \"Content-Type\": \"application/json\",\n",
    "    \"X-Client-Id\": settings.PINGPERFECT_CLIENT_ID,\n",
    "    \"X-Signature\": hashed_payload,\n",
    "    \"X-Timestamp\": str(current_timestamp),\n",
    "}\n"
   ]
  },
  {
   "cell_type": "code",
   "execution_count": 6,
   "id": "620bca93",
   "metadata": {},
   "outputs": [],
   "source": [
    "response = requests.post(\n",
    "    url=settings.PINGPERFECT_URL,\n",
    "    headers=headers,\n",
    "    data=payload_as_json,\n",
    ")"
   ]
  },
  {
   "cell_type": "code",
   "execution_count": 14,
   "id": "9ee02b9c",
   "metadata": {},
   "outputs": [],
   "source": [
    "a = response.json()"
   ]
  },
  {
   "cell_type": "code",
   "execution_count": 16,
   "id": "b1c3218e",
   "metadata": {},
   "outputs": [
    {
     "data": {
      "text/plain": [
       "list"
      ]
     },
     "execution_count": 16,
     "metadata": {},
     "output_type": "execute_result"
    }
   ],
   "source": [
    "type(a)"
   ]
  },
  {
   "cell_type": "code",
   "execution_count": 4,
   "id": "a3feb994",
   "metadata": {},
   "outputs": [
    {
     "data": {
      "text/plain": [
       "'BDBCA328'"
      ]
     },
     "execution_count": 4,
     "metadata": {},
     "output_type": "execute_result"
    }
   ],
   "source": [
    "settings = get_settings()\n",
    "settings.PINGPERFECT_CLIENT_ID"
   ]
  },
  {
   "cell_type": "code",
   "execution_count": null,
   "id": "aa9f73de",
   "metadata": {},
   "outputs": [],
   "source": [
    "settings = get_settings()\n",
    "query_params = {\n",
    "    \"street\": \"Musterstraße\",\n",
    "    \"houseNumber\": \"5\",\n",
    "    \"city\": \"München\",\n",
    "    \"plz\": \"80634\",\n",
    "}\n",
    "\n",
    "query_params = ByteMeQueryParams(**query_params).model_dump(by_alias=True)\n",
    "headers = ApiRequestHeaders(\n",
    "    content_type=\"text/xml; charset=utf-8\", x_api_key=settings.BYTEME_API_KEY\n",
    ").model_dump(by_alias=True)\n",
    "response = requests.get(\n",
    "    settings.BYTEME_BASE_URL,\n",
    "    headers=headers,\n",
    "    params=query_params,  # Add query parameters here\n",
    ")"
   ]
  },
  {
   "cell_type": "code",
   "execution_count": null,
   "id": "07f89734",
   "metadata": {},
   "outputs": [],
   "source": [
    "response.text"
   ]
  },
  {
   "cell_type": "code",
   "execution_count": null,
   "id": "c095ce81",
   "metadata": {},
   "outputs": [],
   "source": [
    "reader = csv.DictReader(response.text.splitlines())"
   ]
  },
  {
   "cell_type": "code",
   "execution_count": null,
   "id": "8f37c401",
   "metadata": {},
   "outputs": [],
   "source": [
    "raw_products = [row for row in csv.DictReader(response.text.splitlines())]"
   ]
  },
  {
   "cell_type": "code",
   "execution_count": null,
   "id": "df24ca51",
   "metadata": {},
   "outputs": [],
   "source": [
    "raw_products"
   ]
  },
  {
   "cell_type": "code",
   "execution_count": null,
   "id": "8ed9c982",
   "metadata": {},
   "outputs": [],
   "source": [
    "len(raw_products)"
   ]
  },
  {
   "cell_type": "code",
   "execution_count": null,
   "id": "47919a68",
   "metadata": {},
   "outputs": [],
   "source": [
    "# remove duplicates from list with dicts\n",
    "unique_products = {frozenset(item.items()): item for item in raw_products}.values()"
   ]
  },
  {
   "cell_type": "code",
   "execution_count": null,
   "id": "f212d87b",
   "metadata": {},
   "outputs": [],
   "source": [
    "len([dict(t) for t in {tuple(d.items()) for d in raw_products}])"
   ]
  }
 ],
 "metadata": {
  "kernelspec": {
   "display_name": "venv",
   "language": "python",
   "name": "python3"
  },
  "language_info": {
   "codemirror_mode": {
    "name": "ipython",
    "version": 3
   },
   "file_extension": ".py",
   "mimetype": "text/x-python",
   "name": "python",
   "nbconvert_exporter": "python",
   "pygments_lexer": "ipython3",
   "version": "3.12.4"
  }
 },
 "nbformat": 4,
 "nbformat_minor": 5
}
